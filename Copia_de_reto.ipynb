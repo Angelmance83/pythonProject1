{
  "nbformat": 4,
  "nbformat_minor": 0,
  "metadata": {
    "colab": {
      "name": "Copia de reto.ipynb",
      "provenance": [],
      "collapsed_sections": [],
      "authorship_tag": "ABX9TyPMNF5SkpmUGx8M+bpoJovJ",
      "include_colab_link": true
    },
    "kernelspec": {
      "name": "python3",
      "display_name": "Python 3"
    }
  },
  "cells": [
    {
      "cell_type": "markdown",
      "metadata": {
        "id": "view-in-github",
        "colab_type": "text"
      },
      "source": [
        "<a href=\"https://colab.research.google.com/github/Angelmance83/pythonProject1/blob/master/Copia_de_reto.ipynb\" target=\"_parent\"><img src=\"https://colab.research.google.com/assets/colab-badge.svg\" alt=\"Open In Colab\"/></a>"
      ]
    },
    {
      "cell_type": "code",
      "metadata": {
        "id": "0ai4bFeAMuWH",
        "colab_type": "code",
        "colab": {
          "base_uri": "https://localhost:8080/",
          "height": 170
        },
        "outputId": "3f753872-df7a-4aa7-eda0-3ea142c8cf26"
      },
      "source": [
        "producto = input()\n",
        "costo_unitario = int(input())\n",
        "valor_publico = int(input())\n",
        "u_disponibles = int(input ())\n",
        "print(\"Producto: \" + producto)\n",
        "print(\"CU: $\" + str(costo_unitario))\n",
        "print(\"PVP: $\" +  str(valor_publico))\n",
        "print(\"Unidades Disponibles: \" + str(u_disponibles))\n",
        "print(\"Ganancia: $\" + str((valor_publico - costo_unitario) * u_disponibles))\n"
      ],
      "execution_count": null,
      "outputs": [
        {
          "output_type": "stream",
          "text": [
            "Chocolatina\n",
            "300\n",
            "550\n",
            "1000\n",
            "Producto: Chocolatina\n",
            "CU: $300\n",
            "PVP: $550\n",
            "Unidades Disponibles: 1000\n",
            "Ganancia: $250000\n"
          ],
          "name": "stdout"
        }
      ]
    }
  ]
}